{
 "cells": [
  {
   "cell_type": "code",
   "execution_count": 1,
   "metadata": {
    "collapsed": true
   },
   "outputs": [],
   "source": [
    "from os import listdir\n",
    "from os.path import isfile, join\n",
    "import numpy as np\n",
    "import pandas as pd\n",
    "from scipy.misc import imread, imsave, imresize\n",
    "from IPython.display import Image\n",
    "import tensorflow as tf"
   ]
  },
  {
   "cell_type": "code",
   "execution_count": 2,
   "metadata": {
    "collapsed": true
   },
   "outputs": [],
   "source": [
    "train_files = [join('train',f) for f in listdir('train') if isfile(join('train', f)) and f.endswith('png')]\n",
    "train_cleaned = [join('train_cleaned',f) for f in listdir('train_cleaned') if isfile(join('train_cleaned', f)) and f.endswith('png')]"
   ]
  },
  {
   "cell_type": "code",
   "execution_count": 3,
   "metadata": {
    "collapsed": true
   },
   "outputs": [],
   "source": [
    "trX = []\n",
    "trY = []\n",
    "orig_size = []"
   ]
  },
  {
   "cell_type": "code",
   "execution_count": 4,
   "metadata": {
    "collapsed": true
   },
   "outputs": [],
   "source": [
    "for fl in train_files:\n",
    "    img = imread(fl)\n",
    "    orig_size.append(img.shape)\n",
    "    img = imresize(img, (300, 200))\n",
    "    trX.append(img)"
   ]
  },
  {
   "cell_type": "code",
   "execution_count": 5,
   "metadata": {
    "collapsed": false
   },
   "outputs": [],
   "source": [
    "trX = np.array(trX)"
   ]
  },
  {
   "cell_type": "code",
   "execution_count": 6,
   "metadata": {
    "collapsed": false
   },
   "outputs": [
    {
     "data": {
      "text/plain": [
       "(144, 300, 200)"
      ]
     },
     "execution_count": 6,
     "metadata": {},
     "output_type": "execute_result"
    }
   ],
   "source": [
    "trX.shape"
   ]
  },
  {
   "cell_type": "code",
   "execution_count": 7,
   "metadata": {
    "collapsed": true
   },
   "outputs": [],
   "source": [
    "for fl in train_cleaned:\n",
    "    img = imread(fl)\n",
    "    img = imresize(img, (300, 200))\n",
    "    trY.append(img)"
   ]
  },
  {
   "cell_type": "code",
   "execution_count": 8,
   "metadata": {
    "collapsed": false
   },
   "outputs": [
    {
     "data": {
      "text/plain": [
       "(144, 300, 200)"
      ]
     },
     "execution_count": 8,
     "metadata": {},
     "output_type": "execute_result"
    }
   ],
   "source": [
    "trY = np.array(trY)\n",
    "trY.shape"
   ]
  },
  {
   "cell_type": "code",
   "execution_count": 9,
   "metadata": {
    "collapsed": true
   },
   "outputs": [],
   "source": [
    "trX = trX.reshape([-1,300*200])/255.0\n",
    "trY = trY.reshape([-1,300*200])/255.0"
   ]
  },
  {
   "cell_type": "code",
   "execution_count": 10,
   "metadata": {
    "collapsed": true
   },
   "outputs": [],
   "source": [
    "from sklearn.cross_validation import train_test_split\n",
    "X_train, X_val, y_train, y_val = train_test_split(trX, trY, test_size=0.3)"
   ]
  },
  {
   "cell_type": "code",
   "execution_count": 11,
   "metadata": {
    "collapsed": false
   },
   "outputs": [
    {
     "data": {
      "text/plain": [
       "(100, 60000)"
      ]
     },
     "execution_count": 11,
     "metadata": {},
     "output_type": "execute_result"
    }
   ],
   "source": [
    "X_train.shape"
   ]
  },
  {
   "cell_type": "code",
   "execution_count": 12,
   "metadata": {
    "collapsed": true
   },
   "outputs": [],
   "source": [
    "def weight_variable(shape):\n",
    "  initial = tf.truncated_normal(shape, stddev=0.1)\n",
    "  return tf.Variable(initial)\n",
    "\n",
    "def bias_variable(shape):\n",
    "  initial = tf.constant(0.1, shape=shape)\n",
    "  return tf.Variable(initial)"
   ]
  },
  {
   "cell_type": "code",
   "execution_count": 13,
   "metadata": {
    "collapsed": true
   },
   "outputs": [],
   "source": [
    "x = tf.placeholder(tf.float32, shape=[None, 300*200])\n",
    "y = tf.placeholder(tf.float32, shape=[None, 300*200])"
   ]
  },
  {
   "cell_type": "code",
   "execution_count": 14,
   "metadata": {
    "collapsed": true
   },
   "outputs": [],
   "source": [
    "hidden_layer = 300\n",
    "W1 = weight_variable(shape=[300*200,hidden_layer])\n",
    "b1 = bias_variable(shape=[hidden_layer])\n",
    "W2 = weight_variable(shape=[hidden_layer,300*200])\n",
    "b2 = bias_variable(shape=[300*200])"
   ]
  },
  {
   "cell_type": "code",
   "execution_count": 15,
   "metadata": {
    "collapsed": true
   },
   "outputs": [],
   "source": [
    "hlayer1 = tf.nn.relu(tf.matmul(x,W1)+b1)\n",
    "output_layer = tf.matmul(hlayer1,W2) + b2"
   ]
  },
  {
   "cell_type": "code",
   "execution_count": 16,
   "metadata": {
    "collapsed": true
   },
   "outputs": [],
   "source": [
    "y_pred = tf.nn.sigmoid(output_layer)\n",
    "cost = tf.reduce_mean(tf.square(y - y_pred))"
   ]
  },
  {
   "cell_type": "code",
   "execution_count": 17,
   "metadata": {
    "collapsed": true
   },
   "outputs": [],
   "source": [
    "train_step = tf.train.AdamOptimizer(7e-5).minimize(cost)"
   ]
  },
  {
   "cell_type": "code",
   "execution_count": 18,
   "metadata": {
    "collapsed": false
   },
   "outputs": [],
   "source": [
    "sess = tf.InteractiveSession()\n",
    "sess.run(tf.initialize_all_variables())"
   ]
  },
  {
   "cell_type": "code",
   "execution_count": 19,
   "metadata": {
    "collapsed": false
   },
   "outputs": [
    {
     "name": "stdout",
     "output_type": "stream",
     "text": [
      "0.412819\n"
     ]
    }
   ],
   "source": [
    "print(sess.run(cost,feed_dict={x:X_train,y:y_train}))"
   ]
  },
  {
   "cell_type": "code",
   "execution_count": 20,
   "metadata": {
    "collapsed": false
   },
   "outputs": [
    {
     "name": "stdout",
     "output_type": "stream",
     "text": [
      "0.404024\n",
      "0.400654\n",
      "0.392528\n",
      "0.389858\n",
      "0.381059\n",
      "0.37467\n",
      "0.364901\n",
      "0.353976\n",
      "0.34029\n",
      "0.316277\n",
      "0.286511\n",
      "0.257356\n",
      "0.223478\n",
      "0.208137\n",
      "0.186631\n",
      "0.177196\n",
      "0.17072\n",
      "0.170132\n",
      "0.168045\n",
      "0.169162\n",
      "0.167844\n",
      "0.168198\n",
      "0.168193\n",
      "0.169079\n",
      "0.169282\n",
      "0.168987\n",
      "0.170537\n",
      "0.168572\n",
      "0.169187\n",
      "0.168494\n",
      "0.166973\n",
      "0.168011\n",
      "0.169898\n",
      "0.169757\n",
      "0.168423\n",
      "0.168243\n",
      "0.170309\n",
      "0.170346\n",
      "0.168338\n",
      "0.168974\n",
      "0.168557\n",
      "0.168822\n",
      "0.17073\n",
      "0.168858\n",
      "0.16954\n",
      "0.169124\n",
      "0.168344\n",
      "0.168354\n",
      "0.169363\n",
      "0.169007\n",
      "0.167244\n",
      "0.166734\n",
      "0.169346\n",
      "0.168824\n",
      "0.169355\n",
      "0.169245\n",
      "0.16915\n",
      "0.169505\n",
      "0.168338\n",
      "0.169358\n",
      "0.169292\n",
      "0.169571\n",
      "0.169856\n",
      "0.16865\n",
      "0.167825\n",
      "0.170449\n",
      "0.169311\n",
      "0.16734\n",
      "0.169111\n",
      "0.168374\n",
      "0.170146\n",
      "0.168916\n",
      "0.16963\n",
      "0.168412\n",
      "0.166165\n",
      "0.169142\n",
      "0.168153\n",
      "0.166675\n",
      "0.168412\n",
      "0.169067\n",
      "0.169122\n",
      "0.169658\n",
      "0.169439\n",
      "0.167875\n",
      "0.168103\n",
      "0.170125\n",
      "0.16777\n",
      "0.167544\n",
      "0.168628\n",
      "0.168043\n",
      "0.16697\n",
      "0.167962\n",
      "0.169115\n",
      "0.168365\n",
      "0.16717\n",
      "0.170307\n",
      "0.168939\n",
      "0.167615\n",
      "0.169401\n",
      "0.169114\n"
     ]
    }
   ],
   "source": [
    "batch_size=50\n",
    "for i in xrange(100):\n",
    "    batch = np.random.choice(X_train.shape[0], batch_size)\n",
    "    sess.run(train_step, feed_dict={x:X_train[batch],y:y_train[batch]})\n",
    "    print(sess.run(cost,feed_dict={x:X_train[batch],y:y_train[batch]}))"
   ]
  },
  {
   "cell_type": "code",
   "execution_count": null,
   "metadata": {
    "collapsed": false
   },
   "outputs": [],
   "source": [
    "y_train"
   ]
  },
  {
   "cell_type": "code",
   "execution_count": null,
   "metadata": {
    "collapsed": false
   },
   "outputs": [],
   "source": [
    "print(sess.run(y_pred,feed_dict={x:X_train,y:y_train}))"
   ]
  },
  {
   "cell_type": "code",
   "execution_count": null,
   "metadata": {
    "collapsed": true
   },
   "outputs": [],
   "source": []
  },
  {
   "cell_type": "code",
   "execution_count": null,
   "metadata": {
    "collapsed": true
   },
   "outputs": [],
   "source": []
  },
  {
   "cell_type": "code",
   "execution_count": null,
   "metadata": {
    "collapsed": true
   },
   "outputs": [],
   "source": []
  }
 ],
 "metadata": {
  "kernelspec": {
   "display_name": "Python 2",
   "language": "python",
   "name": "python2"
  },
  "language_info": {
   "codemirror_mode": {
    "name": "ipython",
    "version": 2
   },
   "file_extension": ".py",
   "mimetype": "text/x-python",
   "name": "python",
   "nbconvert_exporter": "python",
   "pygments_lexer": "ipython2",
   "version": "2.7.11"
  }
 },
 "nbformat": 4,
 "nbformat_minor": 0
}
